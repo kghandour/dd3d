{
 "cells": [
  {
   "cell_type": "code",
   "execution_count": 1,
   "metadata": {},
   "outputs": [],
   "source": [
    "## Example\n",
    "import numpy as np\n",
    "import meshplot as mp"
   ]
  },
  {
   "cell_type": "code",
   "execution_count": 2,
   "metadata": {},
   "outputs": [
    {
     "name": "stdout",
     "output_type": "stream",
     "text": [
      "Jupyter environment detected. Enabling Open3D WebVisualizer.\n",
      "[Open3D INFO] WebRTC GUI backend enabled.\n",
      "[Open3D INFO] WebRTCWindowSystem: HTTP handshake server disabled.\n",
      "[Open3D INFO] Resetting default logger to print to terminal.\n"
     ]
    },
    {
     "name": "stderr",
     "output_type": "stream",
     "text": [
      "/home/ghandour/miniconda3/envs/dd3/lib/python3.9/site-packages/pytorch3d/datasets/shapenet/shapenet_core.py:127: UserWarning: Object file not found in the model directory 207e69af994efa9330714334794526d4 under synset directory 02958343.\n",
      "  warnings.warn(msg)\n",
      "/home/ghandour/miniconda3/envs/dd3/lib/python3.9/site-packages/pytorch3d/datasets/shapenet/shapenet_core.py:127: UserWarning: Object file not found in the model directory 5bf2d7c2167755a72a9eb0f146e94477 under synset directory 02958343.\n",
      "  warnings.warn(msg)\n",
      "/home/ghandour/miniconda3/envs/dd3/lib/python3.9/site-packages/pytorch3d/datasets/shapenet/shapenet_core.py:127: UserWarning: Object file not found in the model directory 8070747805908ae62a9eb0f146e94477 under synset directory 02958343.\n",
      "  warnings.warn(msg)\n",
      "/home/ghandour/miniconda3/envs/dd3/lib/python3.9/site-packages/pytorch3d/datasets/shapenet/shapenet_core.py:127: UserWarning: Object file not found in the model directory e6c22be1a39c9b62fb403c87929e1167 under synset directory 02958343.\n",
      "  warnings.warn(msg)\n",
      "/home/ghandour/miniconda3/envs/dd3/lib/python3.9/site-packages/pytorch3d/datasets/shapenet/shapenet_core.py:127: UserWarning: Object file not found in the model directory 3c33f9f8edc558ce77aa0b62eed1492 under synset directory 02958343.\n",
      "  warnings.warn(msg)\n",
      "/home/ghandour/miniconda3/envs/dd3/lib/python3.9/site-packages/pytorch3d/datasets/shapenet/shapenet_core.py:127: UserWarning: Object file not found in the model directory 93ce8e230939dfc230714334794526d4 under synset directory 02958343.\n",
      "  warnings.warn(msg)\n",
      "/home/ghandour/miniconda3/envs/dd3/lib/python3.9/site-packages/pytorch3d/datasets/shapenet/shapenet_core.py:127: UserWarning: Object file not found in the model directory 3ffeec4abd78c945c7c79bdb1d5fe365 under synset directory 02958343.\n",
      "  warnings.warn(msg)\n",
      "/home/ghandour/miniconda3/envs/dd3/lib/python3.9/site-packages/pytorch3d/datasets/shapenet/shapenet_core.py:127: UserWarning: Object file not found in the model directory 2307b51ca7e4a03d30714334794526d4 under synset directory 02958343.\n",
      "  warnings.warn(msg)\n",
      "/home/ghandour/miniconda3/envs/dd3/lib/python3.9/site-packages/pytorch3d/datasets/shapenet/shapenet_core.py:127: UserWarning: Object file not found in the model directory 407f2811c0fe4e9361c6c61410fc904b under synset directory 02958343.\n",
      "  warnings.warn(msg)\n",
      "/home/ghandour/miniconda3/envs/dd3/lib/python3.9/site-packages/pytorch3d/datasets/shapenet/shapenet_core.py:127: UserWarning: Object file not found in the model directory 302612708e86efea62d2c237bfbc22ca under synset directory 02958343.\n",
      "  warnings.warn(msg)\n",
      "/home/ghandour/miniconda3/envs/dd3/lib/python3.9/site-packages/pytorch3d/datasets/shapenet/shapenet_core.py:127: UserWarning: Object file not found in the model directory 7aa9619e89baaec6d9b8dfa78596b717 under synset directory 02958343.\n",
      "  warnings.warn(msg)\n",
      "/home/ghandour/miniconda3/envs/dd3/lib/python3.9/site-packages/pytorch3d/datasets/shapenet/shapenet_core.py:127: UserWarning: Object file not found in the model directory d6ee8e0a0b392f98eb96598da750ef34 under synset directory 02958343.\n",
      "  warnings.warn(msg)\n",
      "/home/ghandour/miniconda3/envs/dd3/lib/python3.9/site-packages/pytorch3d/datasets/shapenet/shapenet_core.py:127: UserWarning: Object file not found in the model directory 806d740ca8fad5c1473f10e6caaeca56 under synset directory 02958343.\n",
      "  warnings.warn(msg)\n",
      "/home/ghandour/miniconda3/envs/dd3/lib/python3.9/site-packages/pytorch3d/datasets/shapenet/shapenet_core.py:127: UserWarning: Object file not found in the model directory 4ddef66f32e1902d3448fdcb67fe08ff under synset directory 02958343.\n",
      "  warnings.warn(msg)\n",
      "/home/ghandour/miniconda3/envs/dd3/lib/python3.9/site-packages/pytorch3d/datasets/shapenet/shapenet_core.py:127: UserWarning: Object file not found in the model directory 986ed07c18a2e5592a9eb0f146e94477 under synset directory 02958343.\n",
      "  warnings.warn(msg)\n",
      "/home/ghandour/miniconda3/envs/dd3/lib/python3.9/site-packages/pytorch3d/datasets/shapenet/shapenet_core.py:127: UserWarning: Object file not found in the model directory ea3f2971f1c125076c4384c3b17a86ea under synset directory 02958343.\n",
      "  warnings.warn(msg)\n",
      "/home/ghandour/miniconda3/envs/dd3/lib/python3.9/site-packages/pytorch3d/datasets/shapenet/shapenet_core.py:127: UserWarning: Object file not found in the model directory 9fb1d03b22ecac5835da01f298003d56 under synset directory 02958343.\n",
      "  warnings.warn(msg)\n",
      "/home/ghandour/miniconda3/envs/dd3/lib/python3.9/site-packages/pytorch3d/datasets/shapenet/shapenet_core.py:127: UserWarning: Object file not found in the model directory f5bac2b133a979c573397a92d1662ba5 under synset directory 02958343.\n",
      "  warnings.warn(msg)\n",
      "/home/ghandour/miniconda3/envs/dd3/lib/python3.9/site-packages/pytorch3d/datasets/shapenet/shapenet_core.py:127: UserWarning: Object file not found in the model directory 5973afc979049405f63ee8a34069b7c5 under synset directory 02958343.\n",
      "  warnings.warn(msg)\n"
     ]
    }
   ],
   "source": [
    "from meshLoader import MeshLoader\n",
    "import torch\n",
    "from pytorch3d.datasets import ShapeNetCore\n",
    "from pytorch3d.structures import Meshes\n",
    "from pytorch3d.renderer import TexturesVertex\n",
    "import matplotlib.pyplot as plt\n",
    "from pytorch3d.vis.texture_vis import texturesuv_image_matplotlib\n",
    "# Util function for loading meshes\n",
    "from pytorch3d.io import load_objs_as_meshes, load_obj\n",
    "\n",
    "# Data structures and functions for rendering\n",
    "from pytorch3d.structures import Meshes\n",
    "from pytorch3d.vis.plotly_vis import AxisArgs, plot_batch_individually, plot_scene\n",
    "from pytorch3d.vis.texture_vis import texturesuv_image_matplotlib\n",
    "from pytorch3d.renderer import (\n",
    "    look_at_view_transform,\n",
    "    FoVPerspectiveCameras, \n",
    "    PointLights, \n",
    "    DirectionalLights, \n",
    "    Materials, \n",
    "    RasterizationSettings, \n",
    "    MeshRenderer, \n",
    "    MeshRasterizer,  \n",
    "    SoftPhongShader,\n",
    "    TexturesUV,\n",
    "    TexturesVertex\n",
    ")\n",
    "\n",
    "import numpy as np\n",
    "import open3d as o3d\n",
    "from open3d.web_visualizer import draw\n",
    "\n",
    "\n",
    "if torch.cuda.is_available():\n",
    "    device = torch.device(\"cuda:0\")\n",
    "    torch.cuda.set_device(device)\n",
    "else:\n",
    "    device = torch.device(\"cpu\")\n",
    "        \n",
    "SHAPENET_PATH = \"/home/ghandour/Dataset/ShapeNetCore.v2\"\n",
    "shapenet_dataset = ShapeNetCore(SHAPENET_PATH, version=2)"
   ]
  },
  {
   "cell_type": "code",
   "execution_count": 3,
   "metadata": {},
   "outputs": [
    {
     "name": "stdout",
     "output_type": "stream",
     "text": [
      "dict_keys(['synset_id', 'model_id', 'verts', 'faces', 'textures', 'label'])\n",
      "This model belongs to the category 03513137.\n",
      "This model has model id 176bb6178d49f5ace01c07526cf2aa4.\n",
      "This model has a label of:  helmet\n"
     ]
    },
    {
     "name": "stderr",
     "output_type": "stream",
     "text": [
      "/home/ghandour/miniconda3/envs/dd3/lib/python3.9/site-packages/pytorch3d/io/mtl_io.py:102: UserWarning: Texture UV coordinates outside the range [0, 1].                 The integer part will be ignored to form a repeating pattern.\n",
      "  warnings.warn(msg)\n"
     ]
    }
   ],
   "source": [
    "pcd = MeshLoader(shapenet_dataset)\n",
    "\n",
    "## Create Mesh\n",
    "shapenet_model = shapenet_dataset[0]\n",
    "\n",
    "print(shapenet_model.keys())\n",
    "print(\"This model belongs to the category \" + shapenet_model[\"synset_id\"] + \".\")\n",
    "print(\"This model has model id \" + shapenet_model[\"model_id\"] + \".\")\n",
    "print(\"This model has a label of: \", shapenet_model[\"label\"])"
   ]
  },
  {
   "cell_type": "code",
   "execution_count": 10,
   "metadata": {},
   "outputs": [
    {
     "name": "stdout",
     "output_type": "stream",
     "text": [
      "Model with faces and vertices\n"
     ]
    },
    {
     "data": {
      "application/vnd.jupyter.widget-view+json": {
       "model_id": "e065520d8f224ad1881eba884b45f95b",
       "version_major": 2,
       "version_minor": 0
      },
      "text/plain": [
       "Renderer(camera=PerspectiveCamera(children=(DirectionalLight(color='white', intensity=0.6, position=(0.0001524…"
      ]
     },
     "metadata": {},
     "output_type": "display_data"
    },
    {
     "name": "stdout",
     "output_type": "stream",
     "text": [
      "Model with just vertices\n"
     ]
    },
    {
     "data": {
      "application/vnd.jupyter.widget-view+json": {
       "model_id": "71362653763e4a75a2dc6c304dd25902",
       "version_major": 2,
       "version_minor": 0
      },
      "text/plain": [
       "Renderer(camera=PerspectiveCamera(children=(DirectionalLight(color='white', intensity=0.6, position=(0.0001524…"
      ]
     },
     "metadata": {},
     "output_type": "display_data"
    },
    {
     "data": {
      "text/plain": [
       "<meshplot.Viewer.Viewer at 0x7fa012e98e20>"
      ]
     },
     "execution_count": 10,
     "metadata": {},
     "output_type": "execute_result"
    }
   ],
   "source": [
    "print(\"Model with faces and vertices\")\n",
    "mp.plot(shapenet_model[\"verts\"].numpy(), shapenet_model[\"faces\"].numpy())\n",
    "\n",
    "print(\"Model with just vertices\")\n",
    "mp.plot(shapenet_model[\"verts\"].numpy())\n",
    "\n",
    "# print(\"Model with resampled verts\")\n",
    "# mp.plot(pcd[0][\"coordinates\"].numpy())\n"
   ]
  },
  {
   "cell_type": "code",
   "execution_count": 11,
   "metadata": {},
   "outputs": [
    {
     "name": "stderr",
     "output_type": "stream",
     "text": [
      "/home/ghandour/miniconda3/envs/dd3/lib/python3.9/site-packages/pytorch3d/io/mtl_io.py:102: UserWarning: Texture UV coordinates outside the range [0, 1].                 The integer part will be ignored to form a repeating pattern.\n",
      "  warnings.warn(msg)\n"
     ]
    },
    {
     "ename": "AssertionError",
     "evalue": "",
     "output_type": "error",
     "traceback": [
      "\u001b[0;31m---------------------------------------------------------------------------\u001b[0m",
      "\u001b[0;31mAssertionError\u001b[0m                            Traceback (most recent call last)",
      "Cell \u001b[0;32mIn[11], line 5\u001b[0m\n\u001b[1;32m      1\u001b[0m \u001b[39mimport\u001b[39;00m \u001b[39mopen3d\u001b[39;00m \u001b[39mas\u001b[39;00m \u001b[39mo3d\u001b[39;00m\n\u001b[1;32m      4\u001b[0m tri_mesh \u001b[39m=\u001b[39m o3d\u001b[39m.\u001b[39mgeometry\u001b[39m.\u001b[39mTriangleMesh()\n\u001b[0;32m----> 5\u001b[0m tri_mesh\u001b[39m.\u001b[39mvertices \u001b[39m=\u001b[39m o3d\u001b[39m.\u001b[39mutility\u001b[39m.\u001b[39mVector3dVector(pcd[\u001b[39m0\u001b[39;49m][\u001b[39m\"\u001b[39m\u001b[39mverts\u001b[39m\u001b[39m\"\u001b[39m])\n\u001b[1;32m      6\u001b[0m tri_mesh\u001b[39m.\u001b[39mtriangles \u001b[39m=\u001b[39m o3d\u001b[39m.\u001b[39mutility\u001b[39m.\u001b[39mVector3iVector(pcd[\u001b[39m0\u001b[39m][\u001b[39m\"\u001b[39m\u001b[39mfaces\u001b[39m\u001b[39m\"\u001b[39m])\n\u001b[1;32m      7\u001b[0m voxel_grid \u001b[39m=\u001b[39m o3d\u001b[39m.\u001b[39mgeometry\u001b[39m.\u001b[39mVoxelGrid\u001b[39m.\u001b[39mcreate_from_triangle_mesh(tri_mesh, voxel_size\u001b[39m=\u001b[39m\u001b[39m0.005\u001b[39m)\n",
      "File \u001b[0;32m~/dd3d/meshLoader.py:100\u001b[0m, in \u001b[0;36mMeshLoader.__getitem__\u001b[0;34m(self, index)\u001b[0m\n\u001b[1;32m     96\u001b[0m     xyz \u001b[39m=\u001b[39m xyz[: \u001b[39mself\u001b[39m\u001b[39m.\u001b[39mnum_points]\n\u001b[1;32m     98\u001b[0m feats \u001b[39m=\u001b[39m torch\u001b[39m.\u001b[39mones((\u001b[39mlen\u001b[39m(xyz), \u001b[39m1\u001b[39m))\n\u001b[0;32m--> 100\u001b[0m coords, feats, labels \u001b[39m=\u001b[39m ME\u001b[39m.\u001b[39;49mutils\u001b[39m.\u001b[39;49msparse_quantize(\n\u001b[1;32m    101\u001b[0m     coordinates\u001b[39m=\u001b[39;49mxyz,\n\u001b[1;32m    102\u001b[0m     features\u001b[39m=\u001b[39;49mfeats,\n\u001b[1;32m    103\u001b[0m     labels\u001b[39m=\u001b[39;49mlabel,\n\u001b[1;32m    104\u001b[0m     quantization_size\u001b[39m=\u001b[39;49m\u001b[39mself\u001b[39;49m\u001b[39m.\u001b[39;49msample_density)\n\u001b[1;32m    106\u001b[0m \u001b[39mreturn\u001b[39;00m {\n\u001b[1;32m    107\u001b[0m     \u001b[39m\"\u001b[39m\u001b[39mcoordinates\u001b[39m\u001b[39m\"\u001b[39m:coords,\n\u001b[1;32m    108\u001b[0m     \u001b[39m\"\u001b[39m\u001b[39mlabel\u001b[39m\u001b[39m\"\u001b[39m:label,\n\u001b[0;32m   (...)\u001b[0m\n\u001b[1;32m    111\u001b[0m     \u001b[39m\"\u001b[39m\u001b[39mfaces\u001b[39m\u001b[39m\"\u001b[39m:faces,\n\u001b[1;32m    112\u001b[0m }\n",
      "File \u001b[0;32m~/miniconda3/envs/dd3/lib/python3.9/site-packages/MinkowskiEngine/utils/quantization.py:238\u001b[0m, in \u001b[0;36msparse_quantize\u001b[0;34m(coordinates, features, labels, ignore_label, return_index, return_inverse, return_maps_only, quantization_size, device)\u001b[0m\n\u001b[1;32m    235\u001b[0m     \u001b[39massert\u001b[39;00m coordinates\u001b[39m.\u001b[39mshape[\u001b[39m0\u001b[39m] \u001b[39m==\u001b[39m features\u001b[39m.\u001b[39mshape[\u001b[39m0\u001b[39m]\n\u001b[1;32m    237\u001b[0m \u001b[39mif\u001b[39;00m use_label:\n\u001b[0;32m--> 238\u001b[0m     \u001b[39massert\u001b[39;00m coordinates\u001b[39m.\u001b[39mshape[\u001b[39m0\u001b[39m] \u001b[39m==\u001b[39m \u001b[39mlen\u001b[39m(labels)\n\u001b[1;32m    240\u001b[0m dimension \u001b[39m=\u001b[39m coordinates\u001b[39m.\u001b[39mshape[\u001b[39m1\u001b[39m]\n\u001b[1;32m    241\u001b[0m \u001b[39m# Quantize the coordinates\u001b[39;00m\n",
      "\u001b[0;31mAssertionError\u001b[0m: "
     ]
    }
   ],
   "source": [
    "# import open3d as o3d\n",
    "\n",
    "\n",
    "# tri_mesh = o3d.geometry.TriangleMesh()\n",
    "# tri_mesh.vertices = o3d.utility.Vector3dVector(pcd[0][\"verts\"])\n",
    "# tri_mesh.triangles = o3d.utility.Vector3iVector(pcd[0][\"faces\"])\n",
    "# voxel_grid = o3d.geometry.VoxelGrid.create_from_triangle_mesh(tri_mesh, voxel_size=0.005)\n",
    "# voxels = voxel_grid.get_voxels()\n",
    "# print(voxels[0].grid_index)"
   ]
  },
  {
   "cell_type": "code",
   "execution_count": 6,
   "metadata": {},
   "outputs": [
    {
     "data": {
      "application/vnd.jupyter.widget-view+json": {
       "model_id": "1a75fd98fcdb444085565370a977d915",
       "version_major": 2,
       "version_minor": 0
      },
      "text/plain": [
       "Renderer(camera=PerspectiveCamera(children=(DirectionalLight(color='white', intensity=0.6, position=(54.5, 35.…"
      ]
     },
     "metadata": {},
     "output_type": "display_data"
    },
    {
     "data": {
      "text/plain": [
       "<meshplot.Viewer.Viewer at 0x7f99e2668910>"
      ]
     },
     "execution_count": 6,
     "metadata": {},
     "output_type": "execute_result"
    }
   ],
   "source": [
    "# indices = np.stack(list(vx.grid_index for vx in voxels))\n",
    "\n",
    "\n",
    "# shading = {\"flat\":True, # Flat or smooth shading of triangles\n",
    "#            \"wireframe\":False, \"wire_width\": 0.03, \"wire_color\": \"black\", # Wireframe rendering\n",
    "#            \"width\": 600, \"height\": 600, # Size of the viewer canvas\n",
    "#            \"antialias\": True, # Antialising, might not work on all GPUs\n",
    "#            \"scale\": 2.0, # Scaling of the model\n",
    "#            \"side\": \"DoubleSide\", # FrontSide, BackSide or DoubleSide rendering of the triangles\n",
    "#            \"colormap\": \"viridis\", \"normalize\": [None, None], # Colormap and normalization for colors\n",
    "#            \"background\": \"#ffffff\", # Background color of the canvas\n",
    "#            \"line_width\": 1.0, \"line_color\": \"black\", # Line properties of overlay lines\n",
    "#            \"bbox\": False, # Enable plotting of bounding box\n",
    "#            \"point_color\": \"red\", \"point_size\": 1 # Point properties of overlay points\n",
    "#           }\n",
    "# mp.plot(indices, shading=shading)\n"
   ]
  },
  {
   "cell_type": "code",
   "execution_count": 12,
   "metadata": {},
   "outputs": [],
   "source": [
    "def resample_mesh(faces=None, vertices=None, mesh_cad=None, density=0.1):\n",
    "    \"\"\"\n",
    "    https://chrischoy.github.io/research/barycentric-coordinate-for-mesh-sampling/\n",
    "    Samples point cloud on the surface of the model defined as vectices and\n",
    "    faces. This function uses vectorized operations so fast at the cost of some\n",
    "    memory.\n",
    "\n",
    "    param mesh_cad: low-polygon triangle mesh in o3d.geometry.TriangleMesh\n",
    "    param density: density of the point cloud per unit area\n",
    "    param return_numpy: return numpy format or open3d pointcloud format\n",
    "    return resampled point cloud\n",
    "\n",
    "    Reference :\n",
    "      [1] Barycentric coordinate system\n",
    "      \\begin{align}\n",
    "        P = (1 - \\sqrt{r_1})A + \\sqrt{r_1} (1 - r_2) B + \\sqrt{r_1} r_2 C\n",
    "      \\end{align}\n",
    "    \"\"\"\n",
    "\n",
    "    if(mesh_cad is not None):\n",
    "        faces = np.array(mesh_cad.triangles).astype(int)\n",
    "        vertices = np.array(mesh_cad.vertices)\n",
    "\n",
    "    vec_cross = np.cross(\n",
    "        vertices[faces[:, 0], :] - vertices[faces[:, 2], :],\n",
    "        vertices[faces[:, 1], :] - vertices[faces[:, 2], :],\n",
    "    )\n",
    "\n",
    "    print(vec_cross.shape)\n",
    "    face_areas = np.sqrt(np.sum(vec_cross ** 2, 1))\n",
    "    print(face_areas.shape)\n",
    "\n",
    "    n_samples = (np.sum(face_areas) * density).astype(int)\n",
    "    print(n_samples.shape)\n",
    "    # face_areas = face_areas / np.sum(face_areas)\n",
    "\n",
    "    # Sample exactly n_samples. First, oversample points and remove redundant\n",
    "    # Bug fix by Yangyan (yangyan.lee@gmail.com)\n",
    "    n_samples_per_face = np.ceil(density * face_areas).astype(int)\n",
    "    print(n_samples_per_face.shape)\n",
    "    floor_num = np.sum(n_samples_per_face) - n_samples\n",
    "    if floor_num > 0:\n",
    "        indices = np.where(n_samples_per_face > 0)[0]\n",
    "        floor_indices = np.random.choice(indices, floor_num, replace=True)\n",
    "        n_samples_per_face[floor_indices] -= 1\n",
    "\n",
    "    n_samples = np.sum(n_samples_per_face)\n",
    "\n",
    "    # Create a vector that contains the face indices\n",
    "    sample_face_idx = np.zeros((n_samples,), dtype=int)\n",
    "    acc = 0\n",
    "    for face_idx, _n_sample in enumerate(n_samples_per_face):\n",
    "        sample_face_idx[acc : acc + _n_sample] = face_idx\n",
    "        acc += _n_sample\n",
    "\n",
    "    r = np.random.rand(n_samples, 2)\n",
    "    A = vertices[faces[sample_face_idx, 0], :]\n",
    "    B = vertices[faces[sample_face_idx, 1], :]\n",
    "    C = vertices[faces[sample_face_idx, 2], :]\n",
    "\n",
    "    P = (\n",
    "        (1 - np.sqrt(r[:, 0:1])) * A\n",
    "        + np.sqrt(r[:, 0:1]) * (1 - r[:, 1:]) * B\n",
    "        + np.sqrt(r[:, 0:1]) * r[:, 1:] * C\n",
    "    )\n",
    "\n",
    "    return P"
   ]
  },
  {
   "cell_type": "code",
   "execution_count": 10,
   "metadata": {},
   "outputs": [],
   "source": [
    "# def resample_mesh(faces, vertices, density=50):\n",
    "#     \"\"\"\n",
    "#     https://chrischoy.github.io/research/barycentric-coordinate-for-mesh-sampling/\n",
    "#     Samples point cloud on the surface of the model defined as vectices and\n",
    "#     faces. This function uses vectorized operations so fast at the cost of some\n",
    "#     memory.\n",
    "\n",
    "#     param mesh_cad: low-polygon triangle mesh in o3d.geometry.TriangleMesh\n",
    "#     param density: density of the point cloud per unit area\n",
    "#     param return_numpy: return numpy format or open3d pointcloud format\n",
    "#     return resampled point cloud\n",
    "\n",
    "#     Reference :\n",
    "#       [1] Barycentric coordinate system\n",
    "#       \\begin{align}\n",
    "#         P = (1 - \\sqrt{r_1})A + \\sqrt{r_1} (1 - r_2) B + \\sqrt{r_1} r_2 C\n",
    "#       \\end{align}\n",
    "#     \"\"\"\n",
    "\n",
    "#     vec_cross = torch.cross(\n",
    "#         vertices[faces[:, 0], :] - vertices[faces[:, 2], :],\n",
    "#         vertices[faces[:, 1], :] - vertices[faces[:, 2], :],\n",
    "#     )\n",
    "#     face_areas = torch.sqrt(torch.sum(vec_cross ** 2, 1))\n",
    "\n",
    "#     n_samples = (torch.sum(face_areas) * density).type(torch.int)\n",
    "#     # face_areas = face_areas / np.sum(face_areas)\n",
    "\n",
    "#     # Sample exactly n_samples. First, oversample points and remove redundant\n",
    "#     # Bug fix by Yangyan (yangyan.lee@gmail.com)\n",
    "#     n_samples_per_face = torch.ceil(density * face_areas).type(torch.int)\n",
    "#     floor_num = torch.sum(n_samples_per_face) - n_samples\n",
    "#     if floor_num > 0:\n",
    "#         indices = torch.where(n_samples_per_face > 0)[0].type(torch.float)\n",
    "#         floor_indices = torch.multinomial(indices, floor_num, replacement=True)\n",
    "#         n_samples_per_face[floor_indices] -= 1\n",
    "\n",
    "#     n_samples = torch.sum(n_samples_per_face)\n",
    "\n",
    "#     # Create a vector that contains the face indices\n",
    "#     sample_face_idx = torch.zeros((n_samples,), dtype=int)\n",
    "#     acc = 0\n",
    "#     for face_idx, _n_sample in enumerate(n_samples_per_face):\n",
    "#         sample_face_idx[acc : acc + _n_sample] = face_idx\n",
    "#         acc += _n_sample\n",
    "\n",
    "#     r = torch.rand(n_samples, 2)\n",
    "#     A = vertices[faces[sample_face_idx, 0], :]\n",
    "#     B = vertices[faces[sample_face_idx, 1], :]\n",
    "#     C = vertices[faces[sample_face_idx, 2], :]\n",
    "\n",
    "#     P = (\n",
    "#         (1 - torch.sqrt(r[:, 0:1])) * A\n",
    "#         + torch.sqrt(r[:, 0:1]) * (1 - r[:, 1:]) * B\n",
    "#         + torch.sqrt(r[:, 0:1]) * r[:, 1:] * C\n",
    "#     )\n",
    "\n",
    "#     return P"
   ]
  },
  {
   "cell_type": "code",
   "execution_count": 15,
   "metadata": {},
   "outputs": [
    {
     "name": "stdout",
     "output_type": "stream",
     "text": [
      "(5308, 3)\n",
      "(5308,)\n",
      "()\n",
      "(5308,)\n"
     ]
    }
   ],
   "source": [
    "verts, faces = shapenet_model[\"verts\"].numpy(), shapenet_model[\"faces\"].numpy()\n",
    "\n",
    "sampled_verts = resample_mesh(faces, verts, density=5000)\n"
   ]
  },
  {
   "cell_type": "code",
   "execution_count": 17,
   "metadata": {},
   "outputs": [
    {
     "data": {
      "application/vnd.jupyter.widget-view+json": {
       "model_id": "51f5726c8c1a481bab87f48b081e47b2",
       "version_major": 2,
       "version_minor": 0
      },
      "text/plain": [
       "Renderer(camera=PerspectiveCamera(children=(DirectionalLight(color='white', intensity=0.6, position=(0.0001524…"
      ]
     },
     "metadata": {},
     "output_type": "display_data"
    },
    {
     "data": {
      "text/plain": [
       "<meshplot.Viewer.Viewer at 0x7fa0182df400>"
      ]
     },
     "execution_count": 17,
     "metadata": {},
     "output_type": "execute_result"
    }
   ],
   "source": [
    "mp.plot(sampled_verts)"
   ]
  },
  {
   "cell_type": "code",
   "execution_count": 39,
   "metadata": {},
   "outputs": [
    {
     "data": {
      "text/plain": [
       "TriangleMesh with 46592 points and 49174 triangles."
      ]
     },
     "execution_count": 39,
     "metadata": {},
     "output_type": "execute_result"
    }
   ],
   "source": [
    "pcd = o3d.geometry.PointCloud()\n",
    "pcd.points = o3d.utility.Vector3dVector(sampled_verts)\n",
    "pcd.estimate_normals()\n",
    "# mesh = o3d.geometry.TriangleMesh.create_from_point_cloud_alpha_shape(pcd, 0.02)\n",
    "radii = [0.005, 0.01, 0.02, 0.04]\n",
    "mesh = o3d.geometry.TriangleMesh.create_from_point_cloud_ball_pivoting(\n",
    "    pcd, o3d.utility.DoubleVector(radii))\n",
    "mesh.compute_vertex_normals()\n"
   ]
  },
  {
   "cell_type": "code",
   "execution_count": 40,
   "metadata": {},
   "outputs": [
    {
     "data": {
      "application/vnd.jupyter.widget-view+json": {
       "model_id": "b0f02305127e456bb73e294b4b1604c5",
       "version_major": 2,
       "version_minor": 0
      },
      "text/plain": [
       "Renderer(camera=PerspectiveCamera(children=(DirectionalLight(color='white', intensity=0.6, position=(0.0130295…"
      ]
     },
     "metadata": {},
     "output_type": "display_data"
    },
    {
     "data": {
      "text/plain": [
       "<meshplot.Viewer.Viewer at 0x7f99dbeae220>"
      ]
     },
     "execution_count": 40,
     "metadata": {},
     "output_type": "execute_result"
    }
   ],
   "source": [
    "mp.plot(np.asarray(mesh.vertices), np.asarray(mesh.triangles))"
   ]
  },
  {
   "cell_type": "code",
   "execution_count": 42,
   "metadata": {},
   "outputs": [
    {
     "data": {
      "application/vnd.jupyter.widget-view+json": {
       "model_id": "546ba7679bcc42a28e5559229321f89e",
       "version_major": 2,
       "version_minor": 0
      },
      "text/plain": [
       "Renderer(camera=PerspectiveCamera(children=(DirectionalLight(color='white', intensity=0.6, position=(0.0130295…"
      ]
     },
     "metadata": {},
     "output_type": "display_data"
    },
    {
     "data": {
      "text/plain": [
       "<meshplot.Viewer.Viewer at 0x7f99e3d265e0>"
      ]
     },
     "execution_count": 42,
     "metadata": {},
     "output_type": "execute_result"
    }
   ],
   "source": [
    "distances = pcd.compute_nearest_neighbor_distance()\n",
    "avg_dist = np.mean(distances)\n",
    "radius = 2 * avg_dist \n",
    "radii_vect = o3d.utility.DoubleVector([radius, radius * 2])\n",
    "mesh = o3d.geometry.TriangleMesh.create_from_point_cloud_ball_pivoting(\n",
    "    pcd, radii_vect)\n",
    "mp.plot(np.asarray(mesh.vertices), np.asarray(mesh.triangles))"
   ]
  },
  {
   "cell_type": "code",
   "execution_count": null,
   "metadata": {},
   "outputs": [],
   "source": []
  }
 ],
 "metadata": {
  "kernelspec": {
   "display_name": "dd3",
   "language": "python",
   "name": "python3"
  },
  "language_info": {
   "codemirror_mode": {
    "name": "ipython",
    "version": 3
   },
   "file_extension": ".py",
   "mimetype": "text/x-python",
   "name": "python",
   "nbconvert_exporter": "python",
   "pygments_lexer": "ipython3",
   "version": "3.9.16"
  },
  "orig_nbformat": 4
 },
 "nbformat": 4,
 "nbformat_minor": 2
}
