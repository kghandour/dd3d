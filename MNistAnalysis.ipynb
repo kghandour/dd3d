{
 "cells": [
  {
   "cell_type": "markdown",
   "metadata": {},
   "source": [
    "## MNIST 3D Trial"
   ]
  },
  {
   "cell_type": "code",
   "execution_count": 20,
   "metadata": {},
   "outputs": [],
   "source": [
    "import h5py\n",
    "import numpy as np\n",
    "import math\n",
    "counts = np.zeros((10))\n",
    "min_xyz = np.ones((3)) * math.inf\n",
    "max_xyz = np.ones((3)) * -math.inf\n",
    "with h5py.File(\"/home/ghandour/Dataset/MNist3D/train_point_clouds.h5\", \"r\") as hf: \n",
    "    for key in hf.keys():\n",
    "        # print(hf[key].keys())\n",
    "        # print(hf[key][\"points\"].shape)\n",
    "        points = hf[key][\"points\"]\n",
    "        # min_xyz \n",
    "        minpoints = np.min(points, axis=0)\n",
    "        min_xyz[min_xyz > minpoints] = minpoints[minpoints<min_xyz]\n",
    "        maxpoints = np.max(points, axis=0)\n",
    "        max_xyz[max_xyz < maxpoints] = maxpoints[maxpoints>max_xyz]\n",
    "        label = int(hf[key].attrs['label'])\n",
    "        counts[label]+=1"
   ]
  },
  {
   "cell_type": "code",
   "execution_count": 21,
   "metadata": {},
   "outputs": [
    {
     "name": "stdout",
     "output_type": "stream",
     "text": [
      "[479. 563. 488. 493. 535. 434. 501. 550. 462. 495.]\n",
      "[-0.15789474 -0.65678295 -0.66099071]\n",
      "[0.15789474 0.65740964 0.64727036]\n",
      "-0.15789473684210545\n"
     ]
    }
   ],
   "source": []
  },
  {
   "cell_type": "code",
   "execution_count": 19,
   "metadata": {},
   "outputs": [
    {
     "ename": "ValueError",
     "evalue": "all input arrays must have the same shape",
     "output_type": "error",
     "traceback": [
      "\u001b[0;31m---------------------------------------------------------------------------\u001b[0m",
      "\u001b[0;31mValueError\u001b[0m                                Traceback (most recent call last)",
      "Cell \u001b[0;32mIn[19], line 9\u001b[0m\n\u001b[1;32m      6\u001b[0m     \u001b[39mfor\u001b[39;00m key \u001b[39min\u001b[39;00m hf\u001b[39m.\u001b[39mkeys():\n\u001b[1;32m      7\u001b[0m         \u001b[39m# print(hf[key][\"points\"][:].shape)\u001b[39;00m\n\u001b[1;32m      8\u001b[0m         data\u001b[39m.\u001b[39mappend(hf[key][\u001b[39m\"\u001b[39m\u001b[39mpoints\u001b[39m\u001b[39m\"\u001b[39m][:])\n\u001b[0;32m----> 9\u001b[0m data \u001b[39m=\u001b[39m np\u001b[39m.\u001b[39;49mstack(data, axis\u001b[39m=\u001b[39;49m\u001b[39m0\u001b[39;49m)\n",
      "File \u001b[0;32m<__array_function__ internals>:200\u001b[0m, in \u001b[0;36mstack\u001b[0;34m(*args, **kwargs)\u001b[0m\n",
      "File \u001b[0;32m~/miniconda3/envs/dd3/lib/python3.9/site-packages/numpy/core/shape_base.py:464\u001b[0m, in \u001b[0;36mstack\u001b[0;34m(arrays, axis, out, dtype, casting)\u001b[0m\n\u001b[1;32m    462\u001b[0m shapes \u001b[39m=\u001b[39m {arr\u001b[39m.\u001b[39mshape \u001b[39mfor\u001b[39;00m arr \u001b[39min\u001b[39;00m arrays}\n\u001b[1;32m    463\u001b[0m \u001b[39mif\u001b[39;00m \u001b[39mlen\u001b[39m(shapes) \u001b[39m!=\u001b[39m \u001b[39m1\u001b[39m:\n\u001b[0;32m--> 464\u001b[0m     \u001b[39mraise\u001b[39;00m \u001b[39mValueError\u001b[39;00m(\u001b[39m'\u001b[39m\u001b[39mall input arrays must have the same shape\u001b[39m\u001b[39m'\u001b[39m)\n\u001b[1;32m    466\u001b[0m result_ndim \u001b[39m=\u001b[39m arrays[\u001b[39m0\u001b[39m]\u001b[39m.\u001b[39mndim \u001b[39m+\u001b[39m \u001b[39m1\u001b[39m\n\u001b[1;32m    467\u001b[0m axis \u001b[39m=\u001b[39m normalize_axis_index(axis, result_ndim)\n",
      "\u001b[0;31mValueError\u001b[0m: all input arrays must have the same shape"
     ]
    }
   ],
   "source": [
    "import h5py\n",
    "import numpy as np\n",
    "\n",
    "data, labels = [], []\n",
    "with h5py.File(\"/home/ghandour/Dataset/MNist3D/train_point_clouds.h5\", \"r\") as hf: \n",
    "    for key in hf.keys():\n",
    "        # print(hf[key][\"points\"][:].shape)\n",
    "        data.append(hf[key][\"points\"][:])"
   ]
  },
  {
   "cell_type": "code",
   "execution_count": 16,
   "metadata": {},
   "outputs": [
    {
     "name": "stdout",
     "output_type": "stream",
     "text": [
      "(25700, 3)\n"
     ]
    }
   ],
   "source": [
    "print(data[0].shape)"
   ]
  },
  {
   "cell_type": "code",
   "execution_count": null,
   "metadata": {},
   "outputs": [],
   "source": []
  }
 ],
 "metadata": {
  "kernelspec": {
   "display_name": "dd3",
   "language": "python",
   "name": "python3"
  },
  "language_info": {
   "codemirror_mode": {
    "name": "ipython",
    "version": 3
   },
   "file_extension": ".py",
   "mimetype": "text/x-python",
   "name": "python",
   "nbconvert_exporter": "python",
   "pygments_lexer": "ipython3",
   "version": "3.9.16"
  },
  "orig_nbformat": 4
 },
 "nbformat": 4,
 "nbformat_minor": 2
}
