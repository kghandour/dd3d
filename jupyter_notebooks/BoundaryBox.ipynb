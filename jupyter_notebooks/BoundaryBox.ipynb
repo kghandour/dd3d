{
 "cells": [
  {
   "attachments": {},
   "cell_type": "markdown",
   "metadata": {},
   "source": [
    "# Boundary Box debugging"
   ]
  },
  {
   "cell_type": "code",
   "execution_count": 24,
   "metadata": {},
   "outputs": [],
   "source": [
    "dataset_loc = \"/home/ghandour/Dataset/ShapeNet_PCD/\"\n",
    "\n",
    "from tqdm.notebook import tqdm\n",
    "import open3d as o3d\n",
    "import numpy as np\n",
    "import os\n",
    "xmin = ymin = zmin  = 999\n",
    "xmax = ymax = zmax = -999"
   ]
  },
  {
   "cell_type": "code",
   "execution_count": 25,
   "metadata": {},
   "outputs": [],
   "source": [
    "def bbox2_3D(cad):\n",
    "    ## N points as input. Each point has 3 channels (x, y, z)\n",
    "    x_min, y_min, z_min = cad.min(axis=0)\n",
    "    x_max, y_max, z_max = cad.max(axis=0)\n",
    "\n",
    "    return x_min, x_max, y_min, y_max, z_min, z_max\n",
    "    \n",
    "\n",
    "\n"
   ]
  },
  {
   "cell_type": "code",
   "execution_count": 26,
   "metadata": {},
   "outputs": [
    {
     "data": {
      "application/vnd.jupyter.widget-view+json": {
       "model_id": "de105e253fff4ab9b95dea64ca555086",
       "version_major": 2,
       "version_minor": 0
      },
      "text/plain": [
       "  0%|          | 0/55 [00:00<?, ?it/s]"
      ]
     },
     "metadata": {},
     "output_type": "display_data"
    }
   ],
   "source": [
    "for cls in tqdm(os.listdir(dataset_loc)):\n",
    "    path = os.path.join(dataset_loc, cls)\n",
    "    for model in os.listdir(path):\n",
    "        model_path = os.path.join(path, model)\n",
    "        pcd = o3d.io.read_point_cloud(model_path)\n",
    "        voxel_sz = 0.025\n",
    "        downpcd = pcd.voxel_down_sample(voxel_size=voxel_sz)\n",
    "        # while(np.asarray(downpcd.points).shape[0] > self.num_points):\n",
    "        #     voxel_sz += 0.05\n",
    "        #     downpcd = pcd.voxel_down_sample(voxel_size=voxel_sz)\n",
    "        xyz = np.asarray(downpcd.points)\n",
    "        x_min, x_max, y_min, y_max, z_min, z_max = bbox2_3D(xyz)\n",
    "\n",
    "        if x_min < xmin: xmin = x_min\n",
    "        if x_max > xmax: xmax = x_max\n",
    "        \n",
    "        if y_min < ymin: ymin = y_min\n",
    "        if y_max > ymax: ymax = y_max\n",
    "\n",
    "        if z_min < zmin: zmin = z_min\n",
    "        if z_max > zmax: zmax = z_max"
   ]
  },
  {
   "cell_type": "code",
   "execution_count": 27,
   "metadata": {},
   "outputs": [
    {
     "name": "stdout",
     "output_type": "stream",
     "text": [
      "-0.8952469825744629 0.8304629921913147 -0.9426029920578003 0.955692391183398 -0.9350758291245578 0.8514789938926697\n"
     ]
    }
   ],
   "source": [
    "print(xmin, xmax, ymin, ymax, zmin, zmax)"
   ]
  },
  {
   "attachments": {},
   "cell_type": "markdown",
   "metadata": {},
   "source": [
    "## Technically, there should be around:\n",
    "(1 / 0.025 (Voxel size))^3 voxels which is \n",
    "\n",
    "40^3 = 64,000 voxels $\\rightarrow$ Upper bound for number of points"
   ]
  },
  {
   "cell_type": "code",
   "execution_count": null,
   "metadata": {},
   "outputs": [],
   "source": []
  }
 ],
 "metadata": {
  "kernelspec": {
   "display_name": "dd3",
   "language": "python",
   "name": "python3"
  },
  "language_info": {
   "codemirror_mode": {
    "name": "ipython",
    "version": 3
   },
   "file_extension": ".py",
   "mimetype": "text/x-python",
   "name": "python",
   "nbconvert_exporter": "python",
   "pygments_lexer": "ipython3",
   "version": "3.9.16"
  },
  "orig_nbformat": 4
 },
 "nbformat": 4,
 "nbformat_minor": 2
}
