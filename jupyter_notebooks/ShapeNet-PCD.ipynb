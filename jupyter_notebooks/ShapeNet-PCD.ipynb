{
 "cells": [
  {
   "cell_type": "code",
   "execution_count": 5,
   "metadata": {},
   "outputs": [
    {
     "name": "stderr",
     "output_type": "stream",
     "text": [
      "/home/ghandour/miniconda3/envs/dd3/lib/python3.9/site-packages/pytorch3d/datasets/shapenet/shapenet_core.py:127: UserWarning: Object file not found in the model directory 207e69af994efa9330714334794526d4 under synset directory 02958343.\n",
      "  warnings.warn(msg)\n",
      "/home/ghandour/miniconda3/envs/dd3/lib/python3.9/site-packages/pytorch3d/datasets/shapenet/shapenet_core.py:127: UserWarning: Object file not found in the model directory 5bf2d7c2167755a72a9eb0f146e94477 under synset directory 02958343.\n",
      "  warnings.warn(msg)\n",
      "/home/ghandour/miniconda3/envs/dd3/lib/python3.9/site-packages/pytorch3d/datasets/shapenet/shapenet_core.py:127: UserWarning: Object file not found in the model directory 8070747805908ae62a9eb0f146e94477 under synset directory 02958343.\n",
      "  warnings.warn(msg)\n",
      "/home/ghandour/miniconda3/envs/dd3/lib/python3.9/site-packages/pytorch3d/datasets/shapenet/shapenet_core.py:127: UserWarning: Object file not found in the model directory e6c22be1a39c9b62fb403c87929e1167 under synset directory 02958343.\n",
      "  warnings.warn(msg)\n",
      "/home/ghandour/miniconda3/envs/dd3/lib/python3.9/site-packages/pytorch3d/datasets/shapenet/shapenet_core.py:127: UserWarning: Object file not found in the model directory 3c33f9f8edc558ce77aa0b62eed1492 under synset directory 02958343.\n",
      "  warnings.warn(msg)\n",
      "/home/ghandour/miniconda3/envs/dd3/lib/python3.9/site-packages/pytorch3d/datasets/shapenet/shapenet_core.py:127: UserWarning: Object file not found in the model directory 93ce8e230939dfc230714334794526d4 under synset directory 02958343.\n",
      "  warnings.warn(msg)\n",
      "/home/ghandour/miniconda3/envs/dd3/lib/python3.9/site-packages/pytorch3d/datasets/shapenet/shapenet_core.py:127: UserWarning: Object file not found in the model directory 3ffeec4abd78c945c7c79bdb1d5fe365 under synset directory 02958343.\n",
      "  warnings.warn(msg)\n",
      "/home/ghandour/miniconda3/envs/dd3/lib/python3.9/site-packages/pytorch3d/datasets/shapenet/shapenet_core.py:127: UserWarning: Object file not found in the model directory 2307b51ca7e4a03d30714334794526d4 under synset directory 02958343.\n",
      "  warnings.warn(msg)\n",
      "/home/ghandour/miniconda3/envs/dd3/lib/python3.9/site-packages/pytorch3d/datasets/shapenet/shapenet_core.py:127: UserWarning: Object file not found in the model directory 407f2811c0fe4e9361c6c61410fc904b under synset directory 02958343.\n",
      "  warnings.warn(msg)\n",
      "/home/ghandour/miniconda3/envs/dd3/lib/python3.9/site-packages/pytorch3d/datasets/shapenet/shapenet_core.py:127: UserWarning: Object file not found in the model directory 302612708e86efea62d2c237bfbc22ca under synset directory 02958343.\n",
      "  warnings.warn(msg)\n",
      "/home/ghandour/miniconda3/envs/dd3/lib/python3.9/site-packages/pytorch3d/datasets/shapenet/shapenet_core.py:127: UserWarning: Object file not found in the model directory 7aa9619e89baaec6d9b8dfa78596b717 under synset directory 02958343.\n",
      "  warnings.warn(msg)\n",
      "/home/ghandour/miniconda3/envs/dd3/lib/python3.9/site-packages/pytorch3d/datasets/shapenet/shapenet_core.py:127: UserWarning: Object file not found in the model directory d6ee8e0a0b392f98eb96598da750ef34 under synset directory 02958343.\n",
      "  warnings.warn(msg)\n",
      "/home/ghandour/miniconda3/envs/dd3/lib/python3.9/site-packages/pytorch3d/datasets/shapenet/shapenet_core.py:127: UserWarning: Object file not found in the model directory 806d740ca8fad5c1473f10e6caaeca56 under synset directory 02958343.\n",
      "  warnings.warn(msg)\n",
      "/home/ghandour/miniconda3/envs/dd3/lib/python3.9/site-packages/pytorch3d/datasets/shapenet/shapenet_core.py:127: UserWarning: Object file not found in the model directory 4ddef66f32e1902d3448fdcb67fe08ff under synset directory 02958343.\n",
      "  warnings.warn(msg)\n",
      "/home/ghandour/miniconda3/envs/dd3/lib/python3.9/site-packages/pytorch3d/datasets/shapenet/shapenet_core.py:127: UserWarning: Object file not found in the model directory 986ed07c18a2e5592a9eb0f146e94477 under synset directory 02958343.\n",
      "  warnings.warn(msg)\n",
      "/home/ghandour/miniconda3/envs/dd3/lib/python3.9/site-packages/pytorch3d/datasets/shapenet/shapenet_core.py:127: UserWarning: Object file not found in the model directory ea3f2971f1c125076c4384c3b17a86ea under synset directory 02958343.\n",
      "  warnings.warn(msg)\n",
      "/home/ghandour/miniconda3/envs/dd3/lib/python3.9/site-packages/pytorch3d/datasets/shapenet/shapenet_core.py:127: UserWarning: Object file not found in the model directory 9fb1d03b22ecac5835da01f298003d56 under synset directory 02958343.\n",
      "  warnings.warn(msg)\n",
      "/home/ghandour/miniconda3/envs/dd3/lib/python3.9/site-packages/pytorch3d/datasets/shapenet/shapenet_core.py:127: UserWarning: Object file not found in the model directory f5bac2b133a979c573397a92d1662ba5 under synset directory 02958343.\n",
      "  warnings.warn(msg)\n",
      "/home/ghandour/miniconda3/envs/dd3/lib/python3.9/site-packages/pytorch3d/datasets/shapenet/shapenet_core.py:127: UserWarning: Object file not found in the model directory 5973afc979049405f63ee8a34069b7c5 under synset directory 02958343.\n",
      "  warnings.warn(msg)\n"
     ]
    }
   ],
   "source": [
    "from meshLoader import MeshLoader\n",
    "import torch\n",
    "from pytorch3d.datasets import ShapeNetCore\n",
    "from pytorch3d.structures import Pointclouds\n",
    "from pytorch3d.io import IO\n",
    "import os\n",
    "import numpy as np\n",
    "import open3d as o3d\n",
    "from tqdm.notebook import trange, tqdm\n",
    "\n",
    "\n",
    "if torch.cuda.is_available():\n",
    "    device = torch.device(\"cuda:0\")\n",
    "    torch.cuda.set_device(device)\n",
    "else:\n",
    "    device = torch.device(\"cpu\")\n",
    "        \n",
    "SHAPENET_PATH = \"/home/ghandour/Dataset/ShapeNetCore.v2\"\n",
    "shapenet_dataset = ShapeNetCore(SHAPENET_PATH, version=2, load_textures=False)"
   ]
  },
  {
   "cell_type": "code",
   "execution_count": 6,
   "metadata": {},
   "outputs": [],
   "source": [
    "def resample_mesh(faces=None, vertices=None, mesh_cad=None, density=10000):\n",
    "    \"\"\"\n",
    "    https://chrischoy.github.io/research/barycentric-coordinate-for-mesh-sampling/\n",
    "    Samples point cloud on the surface of the model defined as vectices and\n",
    "    faces. This function uses vectorized operations so fast at the cost of some\n",
    "    memory.\n",
    "\n",
    "    param mesh_cad: low-polygon triangle mesh in o3d.geometry.TriangleMesh\n",
    "    param density: density of the point cloud per unit area\n",
    "    param return_numpy: return numpy format or open3d pointcloud format\n",
    "    return resampled point cloud\n",
    "\n",
    "    Reference :\n",
    "      [1] Barycentric coordinate system\n",
    "      \\begin{align}\n",
    "        P = (1 - \\sqrt{r_1})A + \\sqrt{r_1} (1 - r_2) B + \\sqrt{r_1} r_2 C\n",
    "      \\end{align}\n",
    "    \"\"\"\n",
    "\n",
    "    if(mesh_cad is not None):\n",
    "        faces = np.array(mesh_cad.triangles).astype(int)\n",
    "        vertices = np.array(mesh_cad.vertices)\n",
    "\n",
    "    vec_cross = np.cross(\n",
    "        vertices[faces[:, 0], :] - vertices[faces[:, 2], :],\n",
    "        vertices[faces[:, 1], :] - vertices[faces[:, 2], :],\n",
    "    )\n",
    "\n",
    "    face_areas = np.sqrt(np.sum(vec_cross ** 2, 1))\n",
    "\n",
    "    n_samples = (np.sum(face_areas) * density).astype(int)\n",
    "    # face_areas = face_areas / np.sum(face_areas)\n",
    "\n",
    "    # Sample exactly n_samples. First, oversample points and remove redundant\n",
    "    # Bug fix by Yangyan (yangyan.lee@gmail.com)\n",
    "    n_samples_per_face = np.ceil(density * face_areas).astype(int)\n",
    "    floor_num = np.sum(n_samples_per_face) - n_samples\n",
    "    if floor_num > 0:\n",
    "        indices = np.where(n_samples_per_face > 0)[0]\n",
    "        floor_indices = np.random.choice(indices, floor_num, replace=True)\n",
    "        n_samples_per_face[floor_indices] -= 1\n",
    "\n",
    "    n_samples = np.sum(n_samples_per_face)\n",
    "\n",
    "    # Create a vector that contains the face indices\n",
    "    sample_face_idx = np.zeros((n_samples,), dtype=int)\n",
    "    acc = 0\n",
    "    for face_idx, _n_sample in enumerate(n_samples_per_face):\n",
    "        sample_face_idx[acc : acc + _n_sample] = face_idx\n",
    "        acc += _n_sample\n",
    "\n",
    "    r = np.random.rand(n_samples, 2)\n",
    "    A = vertices[faces[sample_face_idx, 0], :]\n",
    "    B = vertices[faces[sample_face_idx, 1], :]\n",
    "    C = vertices[faces[sample_face_idx, 2], :]\n",
    "\n",
    "    P = (\n",
    "        (1 - np.sqrt(r[:, 0:1])) * A\n",
    "        + np.sqrt(r[:, 0:1]) * (1 - r[:, 1:]) * B\n",
    "        + np.sqrt(r[:, 0:1]) * r[:, 1:] * C\n",
    "    )\n",
    "\n",
    "    return P"
   ]
  },
  {
   "cell_type": "code",
   "execution_count": 7,
   "metadata": {},
   "outputs": [],
   "source": [
    "def save_dataset(verts, label, model_id):\n",
    "    if(len(verts)==0):\n",
    "        assert \"Verts cannot be 0\"\n",
    "    output_dir = \"/home/ghandour/Dataset/ShapeNet_PCD\"\n",
    "    if not os.path.exists(output_dir):\n",
    "        os.makedirs(output_dir)\n",
    "    label_folder = os.path.join(output_dir, label)\n",
    "    if not os.path.exists(label_folder):\n",
    "        os.makedirs(label_folder)\n",
    "    pcd = o3d.geometry.PointCloud()\n",
    "    pcd.points = o3d.utility.Vector3dVector(verts)\n",
    "    pcd.estimate_normals()\n",
    "    o3d.io.write_point_cloud(label_folder+\"/\"+model_id+\".ply\",pcd)\n",
    "    \n",
    "    \n"
   ]
  },
  {
   "attachments": {},
   "cell_type": "markdown",
   "metadata": {},
   "source": []
  },
  {
   "cell_type": "code",
   "execution_count": 8,
   "metadata": {},
   "outputs": [
    {
     "data": {
      "application/vnd.jupyter.widget-view+json": {
       "model_id": "01652812fe3f4eff8878c0e6aaa2576a",
       "version_major": 2,
       "version_minor": 0
      },
      "text/plain": [
       "Converting Model to PCD:   0%|          | 0/52472 [00:00<?, ?it/s]"
      ]
     },
     "metadata": {},
     "output_type": "display_data"
    }
   ],
   "source": [
    "for model in tqdm(shapenet_dataset, ascii=True, desc=\"Converting Model to PCD\"):\n",
    "    verts, faces, label, model_id = model[\"verts\"].numpy(), model[\"faces\"].numpy(), model[\"label\"], model[\"model_id\"]\n",
    "    sampled_verts = resample_mesh(faces, verts, density=10000)\n",
    "    save_dataset(verts=sampled_verts, label=label, model_id=model_id)\n"
   ]
  },
  {
   "cell_type": "code",
   "execution_count": null,
   "metadata": {},
   "outputs": [],
   "source": []
  }
 ],
 "metadata": {
  "kernelspec": {
   "display_name": "dd3",
   "language": "python",
   "name": "python3"
  },
  "language_info": {
   "codemirror_mode": {
    "name": "ipython",
    "version": 3
   },
   "file_extension": ".py",
   "mimetype": "text/x-python",
   "name": "python",
   "nbconvert_exporter": "python",
   "pygments_lexer": "ipython3",
   "version": "3.9.16"
  },
  "orig_nbformat": 4
 },
 "nbformat": 4,
 "nbformat_minor": 2
}
