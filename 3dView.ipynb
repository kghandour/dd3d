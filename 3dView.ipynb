{
 "cells": [
  {
   "cell_type": "code",
   "execution_count": 3,
   "metadata": {},
   "outputs": [],
   "source": [
    "## Example\n",
    "import numpy as np\n",
    "import meshplot as mp\n",
    "\n"
   ]
  },
  {
   "cell_type": "code",
   "execution_count": 4,
   "metadata": {},
   "outputs": [
    {
     "name": "stdout",
     "output_type": "stream",
     "text": [
      "Jupyter environment detected. Enabling Open3D WebVisualizer.\n",
      "[Open3D INFO] WebRTC GUI backend enabled.\n",
      "[Open3D INFO] WebRTCWindowSystem: HTTP handshake server disabled.\n",
      "[Open3D INFO] Resetting default logger to print to terminal.\n"
     ]
    },
    {
     "name": "stderr",
     "output_type": "stream",
     "text": [
      "/home/ghandour/miniconda3/envs/dd3/lib/python3.9/site-packages/pytorch3d/datasets/shapenet/shapenet_core.py:127: UserWarning: Object file not found in the model directory 207e69af994efa9330714334794526d4 under synset directory 02958343.\n",
      "  warnings.warn(msg)\n",
      "/home/ghandour/miniconda3/envs/dd3/lib/python3.9/site-packages/pytorch3d/datasets/shapenet/shapenet_core.py:127: UserWarning: Object file not found in the model directory 5bf2d7c2167755a72a9eb0f146e94477 under synset directory 02958343.\n",
      "  warnings.warn(msg)\n",
      "/home/ghandour/miniconda3/envs/dd3/lib/python3.9/site-packages/pytorch3d/datasets/shapenet/shapenet_core.py:127: UserWarning: Object file not found in the model directory 8070747805908ae62a9eb0f146e94477 under synset directory 02958343.\n",
      "  warnings.warn(msg)\n",
      "/home/ghandour/miniconda3/envs/dd3/lib/python3.9/site-packages/pytorch3d/datasets/shapenet/shapenet_core.py:127: UserWarning: Object file not found in the model directory e6c22be1a39c9b62fb403c87929e1167 under synset directory 02958343.\n",
      "  warnings.warn(msg)\n",
      "/home/ghandour/miniconda3/envs/dd3/lib/python3.9/site-packages/pytorch3d/datasets/shapenet/shapenet_core.py:127: UserWarning: Object file not found in the model directory 3c33f9f8edc558ce77aa0b62eed1492 under synset directory 02958343.\n",
      "  warnings.warn(msg)\n",
      "/home/ghandour/miniconda3/envs/dd3/lib/python3.9/site-packages/pytorch3d/datasets/shapenet/shapenet_core.py:127: UserWarning: Object file not found in the model directory 93ce8e230939dfc230714334794526d4 under synset directory 02958343.\n",
      "  warnings.warn(msg)\n",
      "/home/ghandour/miniconda3/envs/dd3/lib/python3.9/site-packages/pytorch3d/datasets/shapenet/shapenet_core.py:127: UserWarning: Object file not found in the model directory 3ffeec4abd78c945c7c79bdb1d5fe365 under synset directory 02958343.\n",
      "  warnings.warn(msg)\n",
      "/home/ghandour/miniconda3/envs/dd3/lib/python3.9/site-packages/pytorch3d/datasets/shapenet/shapenet_core.py:127: UserWarning: Object file not found in the model directory 2307b51ca7e4a03d30714334794526d4 under synset directory 02958343.\n",
      "  warnings.warn(msg)\n",
      "/home/ghandour/miniconda3/envs/dd3/lib/python3.9/site-packages/pytorch3d/datasets/shapenet/shapenet_core.py:127: UserWarning: Object file not found in the model directory 407f2811c0fe4e9361c6c61410fc904b under synset directory 02958343.\n",
      "  warnings.warn(msg)\n",
      "/home/ghandour/miniconda3/envs/dd3/lib/python3.9/site-packages/pytorch3d/datasets/shapenet/shapenet_core.py:127: UserWarning: Object file not found in the model directory 302612708e86efea62d2c237bfbc22ca under synset directory 02958343.\n",
      "  warnings.warn(msg)\n",
      "/home/ghandour/miniconda3/envs/dd3/lib/python3.9/site-packages/pytorch3d/datasets/shapenet/shapenet_core.py:127: UserWarning: Object file not found in the model directory 7aa9619e89baaec6d9b8dfa78596b717 under synset directory 02958343.\n",
      "  warnings.warn(msg)\n",
      "/home/ghandour/miniconda3/envs/dd3/lib/python3.9/site-packages/pytorch3d/datasets/shapenet/shapenet_core.py:127: UserWarning: Object file not found in the model directory d6ee8e0a0b392f98eb96598da750ef34 under synset directory 02958343.\n",
      "  warnings.warn(msg)\n",
      "/home/ghandour/miniconda3/envs/dd3/lib/python3.9/site-packages/pytorch3d/datasets/shapenet/shapenet_core.py:127: UserWarning: Object file not found in the model directory 806d740ca8fad5c1473f10e6caaeca56 under synset directory 02958343.\n",
      "  warnings.warn(msg)\n",
      "/home/ghandour/miniconda3/envs/dd3/lib/python3.9/site-packages/pytorch3d/datasets/shapenet/shapenet_core.py:127: UserWarning: Object file not found in the model directory 4ddef66f32e1902d3448fdcb67fe08ff under synset directory 02958343.\n",
      "  warnings.warn(msg)\n",
      "/home/ghandour/miniconda3/envs/dd3/lib/python3.9/site-packages/pytorch3d/datasets/shapenet/shapenet_core.py:127: UserWarning: Object file not found in the model directory 986ed07c18a2e5592a9eb0f146e94477 under synset directory 02958343.\n",
      "  warnings.warn(msg)\n",
      "/home/ghandour/miniconda3/envs/dd3/lib/python3.9/site-packages/pytorch3d/datasets/shapenet/shapenet_core.py:127: UserWarning: Object file not found in the model directory ea3f2971f1c125076c4384c3b17a86ea under synset directory 02958343.\n",
      "  warnings.warn(msg)\n",
      "/home/ghandour/miniconda3/envs/dd3/lib/python3.9/site-packages/pytorch3d/datasets/shapenet/shapenet_core.py:127: UserWarning: Object file not found in the model directory 9fb1d03b22ecac5835da01f298003d56 under synset directory 02958343.\n",
      "  warnings.warn(msg)\n",
      "/home/ghandour/miniconda3/envs/dd3/lib/python3.9/site-packages/pytorch3d/datasets/shapenet/shapenet_core.py:127: UserWarning: Object file not found in the model directory f5bac2b133a979c573397a92d1662ba5 under synset directory 02958343.\n",
      "  warnings.warn(msg)\n",
      "/home/ghandour/miniconda3/envs/dd3/lib/python3.9/site-packages/pytorch3d/datasets/shapenet/shapenet_core.py:127: UserWarning: Object file not found in the model directory 5973afc979049405f63ee8a34069b7c5 under synset directory 02958343.\n",
      "  warnings.warn(msg)\n"
     ]
    }
   ],
   "source": [
    "from meshLoader import MeshLoader\n",
    "import torch\n",
    "from pytorch3d.datasets import ShapeNetCore\n",
    "from pytorch3d.structures import Meshes\n",
    "from pytorch3d.renderer import TexturesVertex\n",
    "import matplotlib.pyplot as plt\n",
    "from pytorch3d.vis.texture_vis import texturesuv_image_matplotlib\n",
    "# Util function for loading meshes\n",
    "from pytorch3d.io import load_objs_as_meshes, load_obj\n",
    "\n",
    "# Data structures and functions for rendering\n",
    "from pytorch3d.structures import Meshes\n",
    "from pytorch3d.vis.plotly_vis import AxisArgs, plot_batch_individually, plot_scene\n",
    "from pytorch3d.vis.texture_vis import texturesuv_image_matplotlib\n",
    "from pytorch3d.renderer import (\n",
    "    look_at_view_transform,\n",
    "    FoVPerspectiveCameras, \n",
    "    PointLights, \n",
    "    DirectionalLights, \n",
    "    Materials, \n",
    "    RasterizationSettings, \n",
    "    MeshRenderer, \n",
    "    MeshRasterizer,  \n",
    "    SoftPhongShader,\n",
    "    TexturesUV,\n",
    "    TexturesVertex\n",
    ")\n",
    "\n",
    "import numpy as np\n",
    "import open3d as o3d\n",
    "from open3d.web_visualizer import draw\n",
    "\n",
    "\n",
    "if torch.cuda.is_available():\n",
    "    device = torch.device(\"cuda:0\")\n",
    "    torch.cuda.set_device(device)\n",
    "else:\n",
    "    device = torch.device(\"cpu\")\n",
    "        \n",
    "SHAPENET_PATH = \"/home/ghandour/Dataset/ShapeNetCore.v2\"\n",
    "shapenet_dataset = ShapeNetCore(SHAPENET_PATH, version=2)"
   ]
  },
  {
   "cell_type": "code",
   "execution_count": 5,
   "metadata": {},
   "outputs": [
    {
     "name": "stdout",
     "output_type": "stream",
     "text": [
      "dict_keys(['synset_id', 'model_id', 'verts', 'faces', 'textures', 'label'])\n",
      "This model belongs to the category 03691459.\n",
      "This model has model id 69212e8c41ec753fbe62db7ad46c40f3.\n",
      "This model has a label of:  loudspeaker\n"
     ]
    },
    {
     "name": "stderr",
     "output_type": "stream",
     "text": [
      "/home/ghandour/miniconda3/envs/dd3/lib/python3.9/site-packages/pytorch3d/io/mtl_io.py:102: UserWarning: Texture UV coordinates outside the range [0, 1].                 The integer part will be ignored to form a repeating pattern.\n",
      "  warnings.warn(msg)\n"
     ]
    }
   ],
   "source": [
    "pcd = MeshLoader(shapenet_dataset)\n",
    "\n",
    "## Create Mesh\n",
    "shapenet_model = shapenet_dataset[0]\n",
    "\n",
    "print(shapenet_model.keys())\n",
    "print(\"This model belongs to the category \" + shapenet_model[\"synset_id\"] + \".\")\n",
    "print(\"This model has model id \" + shapenet_model[\"model_id\"] + \".\")\n",
    "print(\"This model has a label of: \", shapenet_model[\"label\"])"
   ]
  },
  {
   "cell_type": "code",
   "execution_count": 6,
   "metadata": {},
   "outputs": [
    {
     "name": "stdout",
     "output_type": "stream",
     "text": [
      "Model with faces and vertices\n"
     ]
    },
    {
     "data": {
      "application/vnd.jupyter.widget-view+json": {
       "model_id": "2366ad0faff44264bc96fe092563b6e2",
       "version_major": 2,
       "version_minor": 0
      },
      "text/plain": [
       "Renderer(camera=PerspectiveCamera(children=(DirectionalLight(color='white', intensity=0.6, position=(0.0013030…"
      ]
     },
     "metadata": {},
     "output_type": "display_data"
    },
    {
     "name": "stdout",
     "output_type": "stream",
     "text": [
      "Model with just vertices\n"
     ]
    },
    {
     "data": {
      "application/vnd.jupyter.widget-view+json": {
       "model_id": "14bf2581726246a8a03fbda825632ac0",
       "version_major": 2,
       "version_minor": 0
      },
      "text/plain": [
       "Renderer(camera=PerspectiveCamera(children=(DirectionalLight(color='white', intensity=0.6, position=(0.0013030…"
      ]
     },
     "metadata": {},
     "output_type": "display_data"
    },
    {
     "name": "stdout",
     "output_type": "stream",
     "text": [
      "Model with resampled verts\n"
     ]
    },
    {
     "data": {
      "application/vnd.jupyter.widget-view+json": {
       "model_id": "4c859b734d144a4faa389281e2318931",
       "version_major": 2,
       "version_minor": 0
      },
      "text/plain": [
       "Renderer(camera=PerspectiveCamera(children=(DirectionalLight(color='white', intensity=0.6, position=(-0.317195…"
      ]
     },
     "metadata": {},
     "output_type": "display_data"
    },
    {
     "data": {
      "text/plain": [
       "<meshplot.Viewer.Viewer at 0x7f479adbb7c0>"
      ]
     },
     "execution_count": 6,
     "metadata": {},
     "output_type": "execute_result"
    }
   ],
   "source": [
    "print(\"Model with faces and vertices\")\n",
    "mp.plot(pcd[0][\"verts\"].numpy(), pcd[0][\"faces\"].numpy())\n",
    "\n",
    "print(\"Model with just vertices\")\n",
    "mp.plot(pcd[0][\"verts\"].numpy())\n",
    "\n",
    "print(\"Model with resampled verts\")\n",
    "mp.plot(pcd[0][\"coordinates\"].numpy())\n"
   ]
  },
  {
   "cell_type": "code",
   "execution_count": 24,
   "metadata": {},
   "outputs": [
    {
     "name": "stdout",
     "output_type": "stream",
     "text": [
      "[110  73  50]\n"
     ]
    }
   ],
   "source": [
    "import open3d as o3d\n",
    "\n",
    "\n",
    "tri_mesh = o3d.geometry.TriangleMesh()\n",
    "tri_mesh.vertices = o3d.utility.Vector3dVector(pcd[0][\"verts\"])\n",
    "tri_mesh.triangles = o3d.utility.Vector3iVector(pcd[0][\"faces\"])\n",
    "voxel_grid = o3d.geometry.VoxelGrid.create_from_triangle_mesh(tri_mesh, voxel_size=0.005)\n",
    "voxels = voxel_grid.get_voxels()\n",
    "print(voxels[0].grid_index)"
   ]
  },
  {
   "cell_type": "code",
   "execution_count": 33,
   "metadata": {},
   "outputs": [
    {
     "data": {
      "application/vnd.jupyter.widget-view+json": {
       "model_id": "57c94e20fff14eea8bb118b8dcf17088",
       "version_major": 2,
       "version_minor": 0
      },
      "text/plain": [
       "Renderer(camera=PerspectiveCamera(children=(DirectionalLight(color='white', intensity=0.6, position=(81.0, 41.…"
      ]
     },
     "metadata": {},
     "output_type": "display_data"
    },
    {
     "data": {
      "text/plain": [
       "<meshplot.Viewer.Viewer at 0x7f46f6877400>"
      ]
     },
     "execution_count": 33,
     "metadata": {},
     "output_type": "execute_result"
    }
   ],
   "source": [
    "indices = np.stack(list(vx.grid_index for vx in voxels))\n",
    "\n",
    "\n",
    "shading = {\"flat\":True, # Flat or smooth shading of triangles\n",
    "           \"wireframe\":False, \"wire_width\": 0.03, \"wire_color\": \"black\", # Wireframe rendering\n",
    "           \"width\": 600, \"height\": 600, # Size of the viewer canvas\n",
    "           \"antialias\": True, # Antialising, might not work on all GPUs\n",
    "           \"scale\": 2.0, # Scaling of the model\n",
    "           \"side\": \"DoubleSide\", # FrontSide, BackSide or DoubleSide rendering of the triangles\n",
    "           \"colormap\": \"viridis\", \"normalize\": [None, None], # Colormap and normalization for colors\n",
    "           \"background\": \"#ffffff\", # Background color of the canvas\n",
    "           \"line_width\": 1.0, \"line_color\": \"black\", # Line properties of overlay lines\n",
    "           \"bbox\": False, # Enable plotting of bounding box\n",
    "           \"point_color\": \"red\", \"point_size\": 1 # Point properties of overlay points\n",
    "          }\n",
    "mp.plot(indices, shading=shading)\n"
   ]
  },
  {
   "cell_type": "code",
   "execution_count": 53,
   "metadata": {},
   "outputs": [],
   "source": [
    "def resample_mesh(faces=None, vertices=None, mesh_cad=None, density=0.1):\n",
    "    \"\"\"\n",
    "    https://chrischoy.github.io/research/barycentric-coordinate-for-mesh-sampling/\n",
    "    Samples point cloud on the surface of the model defined as vectices and\n",
    "    faces. This function uses vectorized operations so fast at the cost of some\n",
    "    memory.\n",
    "\n",
    "    param mesh_cad: low-polygon triangle mesh in o3d.geometry.TriangleMesh\n",
    "    param density: density of the point cloud per unit area\n",
    "    param return_numpy: return numpy format or open3d pointcloud format\n",
    "    return resampled point cloud\n",
    "\n",
    "    Reference :\n",
    "      [1] Barycentric coordinate system\n",
    "      \\begin{align}\n",
    "        P = (1 - \\sqrt{r_1})A + \\sqrt{r_1} (1 - r_2) B + \\sqrt{r_1} r_2 C\n",
    "      \\end{align}\n",
    "    \"\"\"\n",
    "\n",
    "    if(mesh_cad is not None):\n",
    "        faces = np.array(mesh_cad.triangles).astype(int)\n",
    "        vertices = np.array(mesh_cad.vertices)\n",
    "\n",
    "    vec_cross = np.cross(\n",
    "        vertices[faces[:, 0], :] - vertices[faces[:, 2], :],\n",
    "        vertices[faces[:, 1], :] - vertices[faces[:, 2], :],\n",
    "    )\n",
    "    face_areas = np.sqrt(np.sum(vec_cross ** 2, 1))\n",
    "\n",
    "    n_samples = (np.sum(face_areas) * density).astype(int)\n",
    "    # face_areas = face_areas / np.sum(face_areas)\n",
    "\n",
    "    # Sample exactly n_samples. First, oversample points and remove redundant\n",
    "    # Bug fix by Yangyan (yangyan.lee@gmail.com)\n",
    "    n_samples_per_face = np.ceil(density * face_areas).astype(int)\n",
    "    floor_num = np.sum(n_samples_per_face) - n_samples\n",
    "    if floor_num > 0:\n",
    "        indices = np.where(n_samples_per_face > 0)[0]\n",
    "        floor_indices = np.random.choice(indices, floor_num, replace=True)\n",
    "        n_samples_per_face[floor_indices] -= 1\n",
    "\n",
    "    n_samples = np.sum(n_samples_per_face)\n",
    "\n",
    "    # Create a vector that contains the face indices\n",
    "    sample_face_idx = np.zeros((n_samples,), dtype=int)\n",
    "    acc = 0\n",
    "    for face_idx, _n_sample in enumerate(n_samples_per_face):\n",
    "        sample_face_idx[acc : acc + _n_sample] = face_idx\n",
    "        acc += _n_sample\n",
    "\n",
    "    r = np.random.rand(n_samples, 2)\n",
    "    A = vertices[faces[sample_face_idx, 0], :]\n",
    "    B = vertices[faces[sample_face_idx, 1], :]\n",
    "    C = vertices[faces[sample_face_idx, 2], :]\n",
    "\n",
    "    P = (\n",
    "        (1 - np.sqrt(r[:, 0:1])) * A\n",
    "        + np.sqrt(r[:, 0:1]) * (1 - r[:, 1:]) * B\n",
    "        + np.sqrt(r[:, 0:1]) * r[:, 1:] * C\n",
    "    )\n",
    "\n",
    "    return P"
   ]
  },
  {
   "cell_type": "code",
   "execution_count": 58,
   "metadata": {},
   "outputs": [
    {
     "data": {
      "application/vnd.jupyter.widget-view+json": {
       "model_id": "e98ed4e36c684803a100d46e07e3cc26",
       "version_major": 2,
       "version_minor": 0
      },
      "text/plain": [
       "Renderer(camera=PerspectiveCamera(children=(DirectionalLight(color='white', intensity=0.6, position=(0.0013016…"
      ]
     },
     "metadata": {},
     "output_type": "display_data"
    },
    {
     "data": {
      "text/plain": [
       "<meshplot.Viewer.Viewer at 0x7f46f191cf10>"
      ]
     },
     "execution_count": 58,
     "metadata": {},
     "output_type": "execute_result"
    }
   ],
   "source": [
    "verts, faces = pcd[0][\"verts\"], pcd[0][\"faces\"]\n",
    "\n",
    "sampled_verts = resample_mesh(mesh_cad=tri_mesh, density=10000)\n",
    "mp.plot(sampled_verts)"
   ]
  },
  {
   "cell_type": "code",
   "execution_count": null,
   "metadata": {},
   "outputs": [],
   "source": []
  }
 ],
 "metadata": {
  "kernelspec": {
   "display_name": "dd3",
   "language": "python",
   "name": "python3"
  },
  "language_info": {
   "codemirror_mode": {
    "name": "ipython",
    "version": 3
   },
   "file_extension": ".py",
   "mimetype": "text/x-python",
   "name": "python",
   "nbconvert_exporter": "python",
   "pygments_lexer": "ipython3",
   "version": "3.9.16"
  },
  "orig_nbformat": 4
 },
 "nbformat": 4,
 "nbformat_minor": 2
}
