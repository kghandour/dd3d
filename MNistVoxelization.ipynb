{
 "cells": [
  {
   "cell_type": "markdown",
   "metadata": {},
   "source": [
    "# Voxelize and preprocess MNist"
   ]
  },
  {
   "cell_type": "code",
   "execution_count": 1,
   "metadata": {},
   "outputs": [],
   "source": [
    "from torchvision import datasets, transforms\n",
    "from torch.utils.data import DataLoader\n",
    "from tqdm import tqdm\n",
    "import torch\n",
    "\n",
    "data_path = \"/home/ghandour/Dataset/MNIST\"\n",
    "class ThresholdTransform(object): ## https://stackoverflow.com/questions/65979207/applying-a-simple-transformation-to-get-a-binary-image-using-pytorch\n",
    "  def __init__(self, thr_255):\n",
    "    self.thr = thr_255 / 255.  # input threshold for [0..255] gray level, convert to [0..1]\n",
    "\n",
    "  def __call__(self, x):\n",
    "    return (x > self.thr).to(x.dtype)  # do not change the data type\n",
    "\n",
    "transform = transforms.Compose([transforms.ToTensor(), ThresholdTransform(thr_255=80)])\n",
    "\n",
    "dst_train = datasets.MNIST(data_path, train=True, download=True, transform=transform) # no augmentation\n",
    "dst_test = datasets.MNIST(data_path, train=False, download=True, transform=transform)"
   ]
  },
  {
   "cell_type": "code",
   "execution_count": 10,
   "metadata": {},
   "outputs": [
    {
     "name": "stdout",
     "output_type": "stream",
     "text": [
      "25\n"
     ]
    }
   ],
   "source": [
    "min_pts = 9999\n",
    "for i in range(len(dst_train)):\n",
    "    elem = dst_train[i][0]\n",
    "    occ_grid = torch.argwhere(elem==1)\n",
    "    if min_pts > occ_grid.shape[0]:\n",
    "        min_pts = occ_grid.shape[0]\n",
    "\n",
    "print(min_pts)\n"
   ]
  },
  {
   "cell_type": "code",
   "execution_count": 16,
   "metadata": {},
   "outputs": [],
   "source": [
    "class Mnist2D(datasets.MNIST):\n",
    "    def __init__(self, root: str, train: bool = True, transform = None, target_transform= None, download: bool = False) -> None:\n",
    "        super().__init__(root, train, transform, target_transform, download)\n",
    "\n",
    "    def __getitem__(self, index: int):\n",
    "        image, label = super().__getitem__(index)\n",
    "        occ_grid = torch.argwhere(image==1)\n",
    "        return occ_grid, label\n",
    "    \n",
    "    def __len__(self) -> int:\n",
    "       return super().__len__()"
   ]
  },
  {
   "cell_type": "code",
   "execution_count": 17,
   "metadata": {},
   "outputs": [],
   "source": [
    "threshold_ds = Mnist2D(root=data_path, train=True, transform=transform)\n",
    "dataloader = DataLoader(threshold_ds)"
   ]
  },
  {
   "cell_type": "code",
   "execution_count": 23,
   "metadata": {},
   "outputs": [],
   "source": [
    "import open3d as o3d\n",
    "import meshplot as mp\n",
    "import numpy as np\n"
   ]
  },
  {
   "cell_type": "code",
   "execution_count": 56,
   "metadata": {},
   "outputs": [
    {
     "name": "stderr",
     "output_type": "stream",
     "text": [
      "  0%|          | 0/60000 [00:00<?, ?it/s]"
     ]
    },
    {
     "name": "stdout",
     "output_type": "stream",
     "text": [
      "\n"
     ]
    },
    {
     "name": "stderr",
     "output_type": "stream",
     "text": [
      "\n"
     ]
    },
    {
     "ename": "TypeError",
     "evalue": "write_triangle_mesh(): incompatible function arguments. The following argument types are supported:\n    1. (filename: str, mesh: open3d.cuda.pybind.geometry.TriangleMesh, write_ascii: bool = False, compressed: bool = False, write_vertex_normals: bool = True, write_vertex_colors: bool = True, write_triangle_uvs: bool = True, print_progress: bool = False) -> bool\n\nInvoked with: '/home/ghandour/52.ply', <Type.TriangleMesh: 6>",
     "output_type": "error",
     "traceback": [
      "\u001b[0;31m---------------------------------------------------------------------------\u001b[0m",
      "\u001b[0;31mTypeError\u001b[0m                                 Traceback (most recent call last)",
      "Cell \u001b[0;32mIn[56], line 10\u001b[0m\n\u001b[1;32m      8\u001b[0m \u001b[39mprint\u001b[39m()\n\u001b[1;32m      9\u001b[0m \u001b[39m# o3d.io.write_voxel_grid(filename, voxelgrid, write_ascii = False, compressed = False, print_progress = False)\u001b[39;00m\n\u001b[0;32m---> 10\u001b[0m o3d\u001b[39m.\u001b[39;49mio\u001b[39m.\u001b[39;49mwrite_triangle_mesh(filename, voxelgrid\u001b[39m.\u001b[39;49mTriangleMesh)\n\u001b[1;32m     12\u001b[0m \u001b[39mbreak\u001b[39;00m\n",
      "\u001b[0;31mTypeError\u001b[0m: write_triangle_mesh(): incompatible function arguments. The following argument types are supported:\n    1. (filename: str, mesh: open3d.cuda.pybind.geometry.TriangleMesh, write_ascii: bool = False, compressed: bool = False, write_vertex_normals: bool = True, write_vertex_colors: bool = True, write_triangle_uvs: bool = True, print_progress: bool = False) -> bool\n\nInvoked with: '/home/ghandour/52.ply', <Type.TriangleMesh: 6>"
     ]
    }
   ],
   "source": [
    "for batch in tqdm(dataloader):\n",
    "    xyz = batch[0].squeeze().cpu().numpy() \n",
    "    pcd = o3d.geometry.PointCloud()\n",
    "    pcd.points = o3d.utility.Vector3dVector(xyz)\n",
    "    # mp.plot(np.array(p3d.points), shading={\"point_size\": 1})\n",
    "    voxelgrid = o3d.geometry.VoxelGrid.create_from_point_cloud(pcd, voxel_size=1)\n",
    "    filename = \"/home/ghandour/\"+str(batch[1].item())+\"2.ply\"\n",
    "    print()\n",
    "    # o3d.io.write_voxel_grid(filename, voxelgrid, write_ascii = False, compressed = False, print_progress = False)\n",
    "    o3d.io.write_triangle_mesh(filename, voxelgrid.TriangleMesh)\n",
    "\n",
    "    break"
   ]
  },
  {
   "cell_type": "code",
   "execution_count": null,
   "metadata": {},
   "outputs": [],
   "source": []
  }
 ],
 "metadata": {
  "kernelspec": {
   "display_name": "dd3",
   "language": "python",
   "name": "python3"
  },
  "language_info": {
   "codemirror_mode": {
    "name": "ipython",
    "version": 3
   },
   "file_extension": ".py",
   "mimetype": "text/x-python",
   "name": "python",
   "nbconvert_exporter": "python",
   "pygments_lexer": "ipython3",
   "version": "3.9.16"
  },
  "orig_nbformat": 4
 },
 "nbformat": 4,
 "nbformat_minor": 2
}
