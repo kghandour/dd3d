{
 "cells": [
  {
   "cell_type": "code",
   "execution_count": 7,
   "metadata": {},
   "outputs": [],
   "source": [
    "import open3d as o3d\n",
    "import numpy as np\n",
    "import torch\n",
    "import os, math\n",
    "from tqdm.notebook import tqdm\n"
   ]
  },
  {
   "cell_type": "code",
   "execution_count": 9,
   "metadata": {},
   "outputs": [],
   "source": [
    "path_to_ply = \"/home/ghandour/Dataset/ShapeNet_PCD/\""
   ]
  },
  {
   "cell_type": "code",
   "execution_count": 13,
   "metadata": {},
   "outputs": [
    {
     "data": {
      "application/vnd.jupyter.widget-view+json": {
       "model_id": "3afb21207b8145a8b4d75e8a4dea0c8b",
       "version_major": 2,
       "version_minor": 0
      },
      "text/plain": [
       "  0%|          | 0/55 [00:00<?, ?it/s]"
      ]
     },
     "metadata": {},
     "output_type": "display_data"
    }
   ],
   "source": [
    "x_min, x_max, y_min, y_max, z_min, z_max = math.inf,-math.inf,math.inf,-math.inf,math.inf,-math.inf\n",
    "for folder in tqdm(os.listdir(path_to_ply)):\n",
    "    class_dir = os.path.join(path_to_ply, folder)\n",
    "    for file in os.listdir(class_dir):\n",
    "        ply_path = os.path.join(class_dir, file)\n",
    "        pcd = o3d.io.read_point_cloud(ply_path)\n",
    "        points = np.asarray(pcd.points)\n",
    "        x_min_temp = np.min(points[:,0])\n",
    "        if(x_min_temp < x_min): x_min = np.min(points[:,0])\n",
    "        x_max_temp = np.max(points[:,0])\n",
    "        if(x_max_temp > x_max): x_max = np.max(points[:,0])\n",
    "        y_min_temp = np.min(points[:,1])\n",
    "        if(y_min_temp < y_min): y_min = np.min(points[:,1])\n",
    "        y_max_temp = np.max(points[:,1])\n",
    "        if(y_max_temp > y_max): y_max = np.max(points[:,1])\n",
    "        z_min_temp = np.min(points[:,2])\n",
    "        if(z_min_temp < z_min): z_min = np.min(points[:,2])\n",
    "        z_max_temp = np.max(points[:,2])\n",
    "        if(z_max_temp > z_max): z_max = np.max(points[:,2])"
   ]
  },
  {
   "cell_type": "code",
   "execution_count": 14,
   "metadata": {},
   "outputs": [
    {
     "name": "stdout",
     "output_type": "stream",
     "text": [
      "-0.8952469825744631 0.8304629921913149 -0.9426029920578005 0.9559080004692079 -0.9405568181747942 0.8514789938926699\n"
     ]
    }
   ],
   "source": [
    "print(x_min, x_max, y_min, y_max, z_min, z_max )"
   ]
  },
  {
   "cell_type": "code",
   "execution_count": null,
   "metadata": {},
   "outputs": [],
   "source": []
  }
 ],
 "metadata": {
  "kernelspec": {
   "display_name": "dd3",
   "language": "python",
   "name": "python3"
  },
  "language_info": {
   "codemirror_mode": {
    "name": "ipython",
    "version": 3
   },
   "file_extension": ".py",
   "mimetype": "text/x-python",
   "name": "python",
   "nbconvert_exporter": "python",
   "pygments_lexer": "ipython3",
   "version": "3.9.16"
  },
  "orig_nbformat": 4
 },
 "nbformat": 4,
 "nbformat_minor": 2
}
